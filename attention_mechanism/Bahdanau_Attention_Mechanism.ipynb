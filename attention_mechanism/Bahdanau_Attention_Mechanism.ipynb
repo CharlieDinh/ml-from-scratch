{
  "nbformat": 4,
  "nbformat_minor": 0,
  "metadata": {
    "coursera": {
      "course_slug": "nlp-sequence-models",
      "graded_item_id": "n16CQ",
      "launcher_item_id": "npjGi"
    },
    "kernelspec": {
      "name": "python3",
      "display_name": "Python 3"
    },
    "language_info": {
      "codemirror_mode": {
        "name": "ipython",
        "version": 3
      },
      "file_extension": ".py",
      "mimetype": "text/x-python",
      "name": "python",
      "nbconvert_exporter": "python",
      "pygments_lexer": "ipython3",
      "version": "3.7.4"
    },
    "colab": {
      "name": "Bahdanau Attention Mechanism.ipynb",
      "provenance": [],
      "collapsed_sections": []
    },
    "accelerator": "GPU"
  },
  "cells": [
    {
      "cell_type": "markdown",
      "metadata": {
        "id": "STfoZ6HJlzGV",
        "colab_type": "text"
      },
      "source": [
        "# Neural Machine Translation with Bahdanau Attention Mechanism\n",
        "\n",
        "You will build a Neural Machine Translation (NMT) model to translate human readable dates (\"25th of June, 2009\") into machine readable dates (\"2009-06-25\"). You will do this using an attention model, one of the most sophisticated sequence to sequence models. \n",
        "\n",
        "This notebook was produced together with NVIDIA's Deep Learning Institute. \n",
        "\n",
        "Let's load all the packages you will need for this assignment."
      ]
    },
    {
      "cell_type": "code",
      "metadata": {
        "id": "HiL_B4QDlzGX",
        "colab_type": "code",
        "colab": {}
      },
      "source": [
        "import numpy as np\n",
        "try:\n",
        "    from faker import Faker\n",
        "except ImportError:\n",
        "    !pip install faker\n",
        "    from faker import Faker\n",
        "from babel.dates import format_date\n",
        "import matplotlib.pyplot as plt\n",
        "%matplotlib inline\n",
        "from sklearn.model_selection import train_test_split\n",
        "import random\n",
        "from tqdm import tqdm\n",
        "import matplotlib.pyplot as plt\n",
        "\n",
        "fake = Faker()\n",
        "Faker.seed(12345)\n",
        "random.seed(12345)\n",
        "\n",
        "# Define format of the data we would like to generate\n",
        "FORMATS = ['short',\n",
        "           'medium',\n",
        "           'long',\n",
        "           'full',\n",
        "           'full',\n",
        "           'full',\n",
        "           'full',\n",
        "           'full',\n",
        "           'full',\n",
        "           'full',\n",
        "           'full',\n",
        "           'full',\n",
        "           'full',\n",
        "           'd MMM YYY', \n",
        "           'd MMMM YYY',\n",
        "           'dd MMM YYY',\n",
        "           'd MMM, YYY',\n",
        "           'd MMMM, YYY',\n",
        "           'dd, MMM YYY',\n",
        "           'd MM YY',\n",
        "           'd MMMM YYY',\n",
        "           'MMMM d YYY',\n",
        "           'MMMM d, YYY',\n",
        "           'dd.MM.YY']\n",
        "\n",
        "# change this if you want it to work with another language\n",
        "LOCALES = ['en_US']\n",
        "\n",
        "def load_date():\n",
        "    \"\"\"\n",
        "        Loads some fake dates \n",
        "        :returns: tuple containing human readable string, machine readable string, and date object\n",
        "    \"\"\"\n",
        "    dt = fake.date_object()\n",
        "\n",
        "    try:\n",
        "        human_readable = format_date(dt, format=random.choice(FORMATS),  locale='en_US') # locale=random.choice(LOCALES))\n",
        "        human_readable = human_readable.lower()\n",
        "        human_readable = human_readable.replace(',','')\n",
        "        machine_readable = dt.isoformat()\n",
        "        \n",
        "    except AttributeError as e:\n",
        "        return None, None, None\n",
        "\n",
        "    return human_readable, machine_readable, dt\n",
        "\n",
        "def load_dataset(m):\n",
        "    \"\"\"\n",
        "        Loads a dataset with m examples and vocabularies\n",
        "        :m: the number of examples to generate\n",
        "    \"\"\"\n",
        "    \n",
        "    human_vocab = set()\n",
        "    machine_vocab = set()\n",
        "    dataset = []\n",
        "    Tx = 30\n",
        "    \n",
        "\n",
        "    for i in tqdm(range(m)):\n",
        "        h, m, _ = load_date()\n",
        "        if h is not None:\n",
        "            dataset.append((h, m))\n",
        "            human_vocab.update(tuple(h))\n",
        "            machine_vocab.update(tuple(m))\n",
        "    \n",
        "    human = dict(zip(['<pad>', '<unk>'] + sorted(human_vocab), \n",
        "                     list(range(len(human_vocab) + 2))))\n",
        "    inv_machine = dict(enumerate(sorted(machine_vocab)))\n",
        "    machine = {v:k for k,v in inv_machine.items()}\n",
        " \n",
        "    return dataset, human, machine, inv_machine\n",
        "\n",
        "def load_dataset_v2(m):\n",
        "    \"\"\"\n",
        "        Loads a dataset with m examples and vocabularies\n",
        "        :m: the number of examples to generate\n",
        "    \"\"\"\n",
        "    \n",
        "    human_vocab = set()\n",
        "    machine_vocab = set()\n",
        "    dataset = []\n",
        "    Tx = 30\n",
        "    \n",
        "\n",
        "    for i in tqdm(range(m)):\n",
        "        h, m, _ = load_date()\n",
        "        if h is not None:\n",
        "            dataset.append((h, \"#\" + m))\n",
        "            human_vocab.update(tuple(h))\n",
        "            machine_vocab.update(tuple(m))\n",
        "    \n",
        "    human = dict(zip(['<pad>', '<unk>'] + sorted(human_vocab), \n",
        "                     list(range(len(human_vocab) + 2))))\n",
        "    inv_machine = dict(enumerate([\"#\"] + sorted(machine_vocab)))\n",
        "    machine = {v:k for k,v in inv_machine.items()}\n",
        " \n",
        "    return dataset, human, machine, inv_machine\n",
        "\n",
        "def preprocess_data(dataset, human_vocab, machine_vocab, Tx, Ty):\n",
        "    \n",
        "    X, Y = zip(*dataset)\n",
        "    \n",
        "    X = np.array([string_to_int(i, Tx, human_vocab) for i in X])\n",
        "    Y = np.array([string_to_int(t, Ty, machine_vocab) for t in Y])\n",
        "\n",
        "    return X, Y\n",
        "\n",
        "def string_to_int(string, length, vocab):\n",
        "    \"\"\"\n",
        "    Converts all strings in the vocabulary into a list of integers representing the positions of the\n",
        "    input string's characters in the \"vocab\"\n",
        "    \n",
        "    Arguments:\n",
        "    string -- input string, e.g. 'Wed 10 Jul 2007'\n",
        "    length -- the number of time steps you'd like, determines if the output will be padded or cut\n",
        "    vocab -- vocabulary, dictionary used to index every character of your \"string\"\n",
        "    \n",
        "    Returns:\n",
        "    rep -- list of integers (or '<unk>') (size = length) representing the position of the string's character in the vocabulary\n",
        "    \"\"\"\n",
        "    \n",
        "    #make lower to standardize\n",
        "    string = string.lower()\n",
        "    string = string.replace(',','')\n",
        "    \n",
        "    if len(string) > length:\n",
        "        string = string[:length]\n",
        "        \n",
        "    rep = list(map(lambda x: vocab.get(x, '<unk>'), string))\n",
        "    \n",
        "    if len(string) < length:\n",
        "        rep += [vocab['<pad>']] * (length - len(string))\n",
        "    \n",
        "    #print (rep)\n",
        "    return rep\n",
        "\n",
        "\n",
        "def int_to_string(ints, inv_vocab):\n",
        "    \"\"\"\n",
        "    Output a machine readable list of characters based on a list of indexes in the machine's vocabulary\n",
        "    \n",
        "    Arguments:\n",
        "    ints -- list of integers representing indexes in the machine's vocabulary\n",
        "    inv_vocab -- dictionary mapping machine readable indexes to machine readable characters \n",
        "    \n",
        "    Returns:\n",
        "    l -- list of characters corresponding to the indexes of ints thanks to the inv_vocab mapping\n",
        "    \"\"\"\n",
        "    \n",
        "    l = [inv_vocab[i] for i in ints]\n",
        "    return l\n",
        "\n",
        "\n",
        "EXAMPLES = ['3 May 1979', '5 Apr 09', '20th February 2016', 'Wed 10 Jul 2007']\n",
        "\n",
        "def run_example(model, input_vocabulary, inv_output_vocabulary, text):\n",
        "    encoded = string_to_int(text, TIME_STEPS, input_vocabulary)\n",
        "    prediction = model.predict(np.array([encoded]))\n",
        "    prediction = np.argmax(prediction[0], axis=-1)\n",
        "    return int_to_string(prediction, inv_output_vocabulary)\n",
        "\n",
        "def run_examples(model, input_vocabulary, inv_output_vocabulary, examples=EXAMPLES):\n",
        "    predicted = []\n",
        "    for example in examples:\n",
        "        predicted.append(''.join(run_example(model, input_vocabulary, inv_output_vocabulary, example)))\n",
        "        print('input:', example)\n",
        "        print('output:', predicted[-1])\n",
        "    return predicted\n",
        "\n",
        "def to_categorical(y, num_classes):\n",
        "    \"\"\" 1-hot encodes a tensor \"\"\"\n",
        "    return np.eye(num_classes, dtype='uint8')[y]"
      ],
      "execution_count": 0,
      "outputs": []
    },
    {
      "cell_type": "markdown",
      "metadata": {
        "id": "c7lnXnWqlzGa",
        "colab_type": "text"
      },
      "source": [
        "## 1 - Translating human readable dates into machine readable dates\n",
        "\n",
        "The model you will build here could be used to translate from one language to another, such as translating from English to Hindi. However, language translation requires massive datasets and usually takes days of training on GPUs. To give you a place to experiment with these models even without using massive datasets, we will instead use a simpler \"date translation\" task. \n",
        "\n",
        "The network will input a date written in a variety of possible formats (*e.g. \"the 29th of August 1958\", \"03/30/1968\", \"24 JUNE 1987\"*) and translate them into standardized, machine readable dates (*e.g. \"1958-08-29\", \"1968-03-30\", \"1987-06-24\"*). We will have the network learn to output dates in the common machine-readable format YYYY-MM-DD. \n",
        "\n",
        "\n",
        "\n",
        "<!-- \n",
        "Take a look at [nmt_utils.py](./nmt_utils.py) to see all the formatting. Count and figure out how the formats work, you will need this knowledge later. !--> "
      ]
    },
    {
      "cell_type": "markdown",
      "metadata": {
        "id": "MNYydRpVlzGa",
        "colab_type": "text"
      },
      "source": [
        "### 1.1 - Dataset\n",
        "\n",
        "We will train the model on a dataset of 60000 human readable dates and their equivalent, standardized, machine readable dates. Let's run the following cells to load the dataset and print some examples. "
      ]
    },
    {
      "cell_type": "code",
      "metadata": {
        "id": "nauv2KUUlzGb",
        "colab_type": "code",
        "outputId": "9fa07710-7bb8-4344-fd2d-400d6e9e1047",
        "colab": {
          "base_uri": "https://localhost:8080/",
          "height": 34
        }
      },
      "source": [
        "m = 60000\n",
        "dataset, human_vocab, machine_vocab, inv_machine_vocab = load_dataset(m)"
      ],
      "execution_count": 24,
      "outputs": [
        {
          "output_type": "stream",
          "text": [
            "100%|██████████| 60000/60000 [00:02<00:00, 23088.35it/s]\n"
          ],
          "name": "stderr"
        }
      ]
    },
    {
      "cell_type": "code",
      "metadata": {
        "id": "mUj7S-aqlzGe",
        "colab_type": "code",
        "outputId": "48b357fa-2b51-4b71-d228-c0bf1507b114",
        "colab": {
          "base_uri": "https://localhost:8080/",
          "height": 187
        }
      },
      "source": [
        "dataset[:10]"
      ],
      "execution_count": 25,
      "outputs": [
        {
          "output_type": "execute_result",
          "data": {
            "text/plain": [
              "[('9 may 1998', '1998-05-09'),\n",
              " ('10.11.19', '2019-11-10'),\n",
              " ('9/10/70', '1970-09-10'),\n",
              " ('saturday april 28 1990', '1990-04-28'),\n",
              " ('thursday january 26 1995', '1995-01-26'),\n",
              " ('monday march 7 1983', '1983-03-07'),\n",
              " ('sunday may 22 1988', '1988-05-22'),\n",
              " ('08 jul 2008', '2008-07-08'),\n",
              " ('8 sep 1999', '1999-09-08'),\n",
              " ('thursday january 1 1981', '1981-01-01')]"
            ]
          },
          "metadata": {
            "tags": []
          },
          "execution_count": 25
        }
      ]
    },
    {
      "cell_type": "code",
      "metadata": {
        "id": "zdwNrYuplzGh",
        "colab_type": "code",
        "outputId": "66162221-b513-4349-c2e1-b485048f6387",
        "colab": {
          "base_uri": "https://localhost:8080/",
          "height": 646
        }
      },
      "source": [
        "human_vocab"
      ],
      "execution_count": 26,
      "outputs": [
        {
          "output_type": "execute_result",
          "data": {
            "text/plain": [
              "{' ': 2,\n",
              " '.': 3,\n",
              " '/': 4,\n",
              " '0': 5,\n",
              " '1': 6,\n",
              " '2': 7,\n",
              " '3': 8,\n",
              " '4': 9,\n",
              " '5': 10,\n",
              " '6': 11,\n",
              " '7': 12,\n",
              " '8': 13,\n",
              " '9': 14,\n",
              " '<pad>': 0,\n",
              " '<unk>': 1,\n",
              " 'a': 15,\n",
              " 'b': 16,\n",
              " 'c': 17,\n",
              " 'd': 18,\n",
              " 'e': 19,\n",
              " 'f': 20,\n",
              " 'g': 21,\n",
              " 'h': 22,\n",
              " 'i': 23,\n",
              " 'j': 24,\n",
              " 'l': 25,\n",
              " 'm': 26,\n",
              " 'n': 27,\n",
              " 'o': 28,\n",
              " 'p': 29,\n",
              " 'r': 30,\n",
              " 's': 31,\n",
              " 't': 32,\n",
              " 'u': 33,\n",
              " 'v': 34,\n",
              " 'w': 35,\n",
              " 'y': 36}"
            ]
          },
          "metadata": {
            "tags": []
          },
          "execution_count": 26
        }
      ]
    },
    {
      "cell_type": "code",
      "metadata": {
        "id": "3ADF0GoLlzGk",
        "colab_type": "code",
        "outputId": "bbeb0fe4-7522-41d0-9fae-1b74c6b0d5da",
        "colab": {
          "base_uri": "https://localhost:8080/",
          "height": 204
        }
      },
      "source": [
        "machine_vocab"
      ],
      "execution_count": 27,
      "outputs": [
        {
          "output_type": "execute_result",
          "data": {
            "text/plain": [
              "{'-': 0,\n",
              " '0': 1,\n",
              " '1': 2,\n",
              " '2': 3,\n",
              " '3': 4,\n",
              " '4': 5,\n",
              " '5': 6,\n",
              " '6': 7,\n",
              " '7': 8,\n",
              " '8': 9,\n",
              " '9': 10}"
            ]
          },
          "metadata": {
            "tags": []
          },
          "execution_count": 27
        }
      ]
    },
    {
      "cell_type": "markdown",
      "metadata": {
        "id": "q0mgFEsQlzGn",
        "colab_type": "text"
      },
      "source": [
        "You've loaded:\n",
        "- `dataset`: a list of tuples of (human readable date, machine readable date)\n",
        "- `human_vocab`: a python dictionary mapping all characters used in the human readable dates to an integer-valued index \n",
        "- `machine_vocab`: a python dictionary mapping all characters used in machine readable dates to an integer-valued index. These indices are not necessarily consistent with `human_vocab`. \n",
        "- `inv_machine_vocab`: the inverse dictionary of `machine_vocab`, mapping from indices back to characters. \n",
        "\n",
        "Let's preprocess the data and map the raw text data into the index values. We will also use Tx=30 (which we assume is the maximum length of the human readable date; if we get a longer input, we would have to truncate it) and Ty=10 (since \"YYYY-MM-DD\" is 10 characters long). "
      ]
    },
    {
      "cell_type": "code",
      "metadata": {
        "id": "Uwx-pd59lzGr",
        "colab_type": "code",
        "outputId": "b90a164f-9a55-450e-a61a-20e8fbc1ae28",
        "colab": {
          "base_uri": "https://localhost:8080/",
          "height": 51
        }
      },
      "source": [
        "Tx = 30\n",
        "Ty = 10\n",
        "\n",
        "X, Y = preprocess_data(dataset, human_vocab, machine_vocab, Tx, Ty)\n",
        "\n",
        "Y = np.array(list(map(lambda x: to_categorical(x, num_classes=len(machine_vocab)), Y)))\n",
        "\n",
        "print(\"X.shape:\", X.shape)\n",
        "print(\"Y.shape:\", Y.shape)"
      ],
      "execution_count": 28,
      "outputs": [
        {
          "output_type": "stream",
          "text": [
            "X.shape: (60000, 30)\n",
            "Y.shape: (60000, 10, 11)\n"
          ],
          "name": "stdout"
        }
      ]
    },
    {
      "cell_type": "markdown",
      "metadata": {
        "id": "ZwSw4dfNlzGt",
        "colab_type": "text"
      },
      "source": [
        "## 2 - Neural machine translation with attention\n",
        "\n",
        "If you had to translate a book's paragraph from French to English, you would not read the whole paragraph, then close the book and translate. Even during the translation process, you would read/re-read and focus on the parts of the French paragraph corresponding to the parts of the English you are writing down. \n",
        "\n",
        "The attention mechanism tells a Neural Machine Translation model where it should pay attention to at any step. \n",
        "\n",
        "\n",
        "### Attention mechanism\n",
        "\n",
        "In this part, you will implement the attention mechanism presented in the lecture videos. Here is a figure to remind you how the model works. The diagram on the left shows the attention model. The diagram on the right shows what one \"Attention\" step does to calculate the attention variables $\\alpha^{\\langle t, t' \\rangle}$, which are used to compute the context variable $context^{\\langle t \\rangle}$ for each timestep in the output ($t=1, \\ldots, T_y$). \n",
        "\n",
        "<table>\n",
        "<td> \n",
        "<img src=\"https://i.imgur.com/fuOZgQl.png\" style=\"width:500;height:500px;\"> <br>\n",
        "</td> \n",
        "<td> \n",
        "<img src=\"https://i.imgur.com/CEgMHFc.png\" style=\"width:500;height:500px;\"> <br>\n",
        "</td> \n",
        "</table>\n",
        "<caption><center> **Figure 1**: Neural machine translation with attention</center></caption>\n"
      ]
    },
    {
      "cell_type": "code",
      "metadata": {
        "id": "n5Gn0M3KlzGu",
        "colab_type": "code",
        "colab": {}
      },
      "source": [
        "import torch\n",
        "import torch.nn as nn"
      ],
      "execution_count": 0,
      "outputs": []
    },
    {
      "cell_type": "code",
      "metadata": {
        "id": "1lRuC-LblzGx",
        "colab_type": "code",
        "colab": {}
      },
      "source": [
        "class BahdanauAttention(nn.Module):\n",
        "    \n",
        "    def __init__(self, num_embeds, embed_dim, encoder_units, decoder_units, enc_len, dec_len, num_vocab):\n",
        "        \"\"\"\n",
        "        decoder_units = 2*encoder_units because bidirectional\n",
        "        \"\"\"\n",
        "        super().__init__()\n",
        "        self.word_embed = nn.Embedding(num_embeddings=num_embeds, embedding_dim=embed_dim)\n",
        "        self.encoder_lstm = nn.LSTM(input_size=embed_dim, hidden_size=encoder_units, batch_first=True, bidirectional=True)\n",
        "        self.ffn1 = nn.Linear(in_features=encoder_units*2 + decoder_units, out_features=decoder_units)\n",
        "        self.ffn2 = nn.Linear(in_features=decoder_units, out_features=1)\n",
        "        self.decoder_lstm = nn.LSTM(input_size=decoder_units, hidden_size=decoder_units, batch_first=True)\n",
        "        self.enc_len = enc_len\n",
        "        self.dec_len = dec_len\n",
        "        self.logits = nn.Linear(in_features=decoder_units, out_features=num_vocab)\n",
        "\n",
        "    def forward(self, x, init_states):\n",
        "        x = self.word_embed(x)\n",
        "        h_enc_seq ,_ = self.encoder_lstm(x) # LSTM bidirectional, shape = (batch_size, enc_len, encoder_units)\n",
        "        h_dec, c_dec = init_states # shape = (batch_size, decoder_units)\n",
        "        h_dec = h_dec.unsqueeze(0)\n",
        "        c_dec = c_dec.unsqueeze(0)\n",
        "        outputs = []\n",
        "        for i in range(self.dec_len):\n",
        "            h_dec_seq = torch.cat([h_dec.squeeze(0).unsqueeze(1)]*self.enc_len, dim=1)\n",
        "            x = torch.cat([h_dec_seq, h_enc_seq], dim=-1) # shape = (batch_size, enc_len, encoder_units + decoder_units)\n",
        "            x = self.ffn1(x) # shape = (batch_size, enc_len, decoder_units)\n",
        "            x = self.ffn2(x).squeeze(-1)  # shape = (batch_size, enc_len)\n",
        "            x = torch.softmax(x, dim=-1)\n",
        "\n",
        "            context = torch.einsum(\"nse,ns->ne\", h_enc_seq, x) # shape = (batch_size, encoder_units)\n",
        "            context = torch.unsqueeze(context, 1)\n",
        "            out, (h_dec, c_dec) = self.decoder_lstm(context, (h_dec, c_dec)) # shape = (batch_size, 1, decoder_units)\n",
        "            out = self.logits(out.squeeze(1)) # shape = (batch_size, num_vocab)\n",
        "            out = torch.softmax(out, dim=-1)\n",
        "            outputs.append(out.unsqueeze(1))\n",
        "\n",
        "        outputs = torch.cat(outputs, dim=1)\n",
        "        return outputs"
      ],
      "execution_count": 0,
      "outputs": []
    },
    {
      "cell_type": "code",
      "metadata": {
        "id": "W-_BgygcHbs4",
        "colab_type": "code",
        "colab": {}
      },
      "source": [
        "NUM_EMBEDS = len(human_vocab)\n",
        "EMBED_DIM = 32\n",
        "ENCODER_UNITS = 32\n",
        "DECODER_UNITS = ENCODER_UNITS * 2\n",
        "DEVICE = \"cuda\" if torch.cuda.is_available() else \"cpu\""
      ],
      "execution_count": 0,
      "outputs": []
    },
    {
      "cell_type": "markdown",
      "metadata": {
        "id": "4TrP9CsslzGz",
        "colab_type": "text"
      },
      "source": [
        "Load the model"
      ]
    },
    {
      "cell_type": "code",
      "metadata": {
        "id": "tNltglP-lzG0",
        "colab_type": "code",
        "colab": {}
      },
      "source": [
        "bahdanau = BahdanauAttention(num_embeds=NUM_EMBEDS, embed_dim=EMBED_DIM, encoder_units=ENCODER_UNITS, decoder_units=DECODER_UNITS, enc_len=Tx, dec_len=Ty, num_vocab=len(machine_vocab)).to(DEVICE)"
      ],
      "execution_count": 0,
      "outputs": []
    },
    {
      "cell_type": "code",
      "metadata": {
        "id": "O4YeZWmechtp",
        "colab_type": "code",
        "colab": {
          "base_uri": "https://localhost:8080/",
          "height": 153
        },
        "outputId": "91789f3c-5e6c-4093-d05e-c558ca8c2b2a"
      },
      "source": [
        "bahdanau.parameters"
      ],
      "execution_count": 33,
      "outputs": [
        {
          "output_type": "execute_result",
          "data": {
            "text/plain": [
              "<bound method Module.parameters of BahdanauAttention(\n",
              "  (word_embed): Embedding(37, 32)\n",
              "  (encoder_lstm): LSTM(32, 32, batch_first=True, bidirectional=True)\n",
              "  (ffn1): Linear(in_features=128, out_features=64, bias=True)\n",
              "  (ffn2): Linear(in_features=64, out_features=1, bias=True)\n",
              "  (decoder_lstm): LSTM(64, 64, batch_first=True)\n",
              "  (logits): Linear(in_features=64, out_features=11, bias=True)\n",
              ")>"
            ]
          },
          "metadata": {
            "tags": []
          },
          "execution_count": 33
        }
      ]
    },
    {
      "cell_type": "code",
      "metadata": {
        "id": "tPAhHo8Syttz",
        "colab_type": "code",
        "colab": {}
      },
      "source": [
        "def loss_func(Y_hat, Y):\n",
        "    res = torch.sum(Y*torch.log(Y_hat), dim=-1)\n",
        "    res = torch.sum(res, dim=-1)\n",
        "    return torch.mean(-res)"
      ],
      "execution_count": 0,
      "outputs": []
    },
    {
      "cell_type": "code",
      "metadata": {
        "id": "waCHUUStb-Bf",
        "colab_type": "code",
        "colab": {}
      },
      "source": [
        "optimizer = torch.optim.Adam(bahdanau.parameters(), lr=0.001, betas=(0.9, 0.999))"
      ],
      "execution_count": 0,
      "outputs": []
    },
    {
      "cell_type": "code",
      "metadata": {
        "id": "JmQV99REpexv",
        "colab_type": "code",
        "colab": {}
      },
      "source": [
        "BATCH_SIZE = 64\n",
        "EPOCHS = 10\n",
        "num_batches = int(np.ceil(m / 64))\n",
        "\n",
        "X = torch.Tensor(X).long().to(DEVICE)\n",
        "Y = torch.Tensor(Y).long().to(DEVICE)"
      ],
      "execution_count": 0,
      "outputs": []
    },
    {
      "cell_type": "code",
      "metadata": {
        "id": "G8lnJD_uJGSp",
        "colab_type": "code",
        "colab": {
          "base_uri": "https://localhost:8080/",
          "height": 187
        },
        "outputId": "c8e70ab3-d5b7-4335-a40a-7164da3b7182"
      },
      "source": [
        "for e in range(EPOCHS):\n",
        "    indices = torch.randperm(m)\n",
        "    X = X[indices]\n",
        "    Y = Y[indices]\n",
        "    epoch_loss = 0.0\n",
        "\n",
        "    for b in range(num_batches):\n",
        "        X_batch = X[b*BATCH_SIZE:(b+1)*BATCH_SIZE]\n",
        "        h, c = torch.zeros(X_batch.shape[0], DECODER_UNITS).to(DEVICE), torch.zeros(X_batch.shape[0], DECODER_UNITS).to(DEVICE)\n",
        "        Y_hat = bahdanau(X_batch, (h, c))\n",
        "        Y_batch = Y[b*BATCH_SIZE:(b+1)*BATCH_SIZE]\n",
        "        batch_loss = loss_func(Y_hat, Y_batch)\n",
        "\n",
        "        optimizer.zero_grad()\n",
        "        batch_loss.backward()\n",
        "        optimizer.step()\n",
        "\n",
        "        epoch_loss += batch_loss.item()\n",
        "\n",
        "    print(\"Loss at epoch %d: %.3f\" % (e, epoch_loss/num_batches))"
      ],
      "execution_count": 37,
      "outputs": [
        {
          "output_type": "stream",
          "text": [
            "Loss at epoch 0: 10.001\n",
            "Loss at epoch 1: 3.514\n",
            "Loss at epoch 2: 1.206\n",
            "Loss at epoch 3: 0.368\n",
            "Loss at epoch 4: 0.169\n",
            "Loss at epoch 5: 0.098\n",
            "Loss at epoch 6: 0.073\n",
            "Loss at epoch 7: 0.058\n",
            "Loss at epoch 8: 0.033\n",
            "Loss at epoch 9: 0.050\n"
          ],
          "name": "stdout"
        }
      ]
    },
    {
      "cell_type": "markdown",
      "metadata": {
        "id": "zjZM_C83lzG2",
        "colab_type": "text"
      },
      "source": [
        "You can now see the results on new examples."
      ]
    },
    {
      "cell_type": "code",
      "metadata": {
        "id": "Jb2XkksIlzG2",
        "colab_type": "code",
        "outputId": "b27ed16f-c9b1-4d5f-a7c2-3278e49f5906",
        "colab": {
          "base_uri": "https://localhost:8080/",
          "height": 289
        }
      },
      "source": [
        "EXAMPLES = ['3 May 1979', '5 April 09', '21th of August 2016', 'Tue 10 Jul 2007', 'Saturday May 9 2018', 'March 3 2001', 'March 3rd 2001', '1 March 2001']\n",
        "bahdanau.eval()\n",
        "for example in EXAMPLES:\n",
        "    source = string_to_int(example, Tx, human_vocab)\n",
        "    source = torch.Tensor(np.array([source])).long().to(DEVICE)\n",
        "    h, c = torch.zeros(1, DECODER_UNITS).to(DEVICE), torch.zeros(1, DECODER_UNITS).to(DEVICE)\n",
        "    prediction = bahdanau(source, (h, c))\n",
        "    prediction = torch.argmax(prediction, dim=-1)\n",
        "    prediction = prediction.cpu().numpy()[-1]\n",
        "    output = [inv_machine_vocab[int(i)] for i in prediction]\n",
        "    \n",
        "    print(\"source:\", example)\n",
        "    print(\"output:\", ''.join(output))"
      ],
      "execution_count": 39,
      "outputs": [
        {
          "output_type": "stream",
          "text": [
            "source: 3 May 1979\n",
            "output: 1979-05-03\n",
            "source: 5 April 09\n",
            "output: 2009-04-06\n",
            "source: 21th of August 2016\n",
            "output: 2016-08-01\n",
            "source: Tue 10 Jul 2007\n",
            "output: 2007-07-10\n",
            "source: Saturday May 9 2018\n",
            "output: 2018-05-09\n",
            "source: March 3 2001\n",
            "output: 2001-03-03\n",
            "source: March 3rd 2001\n",
            "output: 2001-02-01\n",
            "source: 1 March 2001\n",
            "output: 2001-03-01\n"
          ],
          "name": "stdout"
        }
      ]
    },
    {
      "cell_type": "code",
      "metadata": {
        "id": "onVrHNvH9zWG",
        "colab_type": "code",
        "colab": {}
      },
      "source": [
        ""
      ],
      "execution_count": 0,
      "outputs": []
    }
  ]
}